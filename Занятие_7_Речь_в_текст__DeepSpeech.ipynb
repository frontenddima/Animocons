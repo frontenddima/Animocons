{
  "nbformat": 4,
  "nbformat_minor": 0,
  "metadata": {
    "colab": {
      "provenance": [],
      "include_colab_link": true
    },
    "kernelspec": {
      "display_name": "Python 3",
      "name": "python3"
    },
    "accelerator": "GPU"
  },
  "cells": [
    {
      "cell_type": "markdown",
      "metadata": {
        "id": "view-in-github",
        "colab_type": "text"
      },
      "source": [
        "<a href=\"https://colab.research.google.com/github/frontenddima/Animocons/blob/master/%D0%97%D0%B0%D0%BD%D1%8F%D1%82%D0%B8%D0%B5_7_%D0%A0%D0%B5%D1%87%D1%8C_%D0%B2_%D1%82%D0%B5%D0%BA%D1%81%D1%82__DeepSpeech.ipynb\" target=\"_parent\"><img src=\"https://colab.research.google.com/assets/colab-badge.svg\" alt=\"Open In Colab\"/></a>"
      ]
    },
    {
      "cell_type": "markdown",
      "source": [
        "https://lk.neural-university.ru/lesson/510"
      ],
      "metadata": {
        "id": "BOtj_FYfh4ha"
      }
    },
    {
      "cell_type": "code",
      "metadata": {
        "colab": {
          "base_uri": "https://localhost:8080/"
        },
        "id": "uZ-JJEM_-bC0",
        "outputId": "f22f6148-038b-4763-edee-eb254c944180"
      },
      "source": [
        "!pip install git+https://github.com/librosa/librosa"
      ],
      "execution_count": null,
      "outputs": [
        {
          "output_type": "stream",
          "name": "stdout",
          "text": [
            "Looking in indexes: https://pypi.org/simple, https://us-python.pkg.dev/colab-wheels/public/simple/\n",
            "Collecting git+https://github.com/librosa/librosa\n",
            "  Cloning https://github.com/librosa/librosa to /tmp/pip-req-build-pxgnl42l\n",
            "  Running command git clone -q https://github.com/librosa/librosa /tmp/pip-req-build-pxgnl42l\n",
            "  Running command git submodule update --init --recursive -q\n",
            "  Installing build dependencies ... \u001b[?25l\u001b[?25hdone\n",
            "  Getting requirements to build wheel ... \u001b[?25l\u001b[?25herror\n",
            "\u001b[33mWARNING: Discarding git+https://github.com/librosa/librosa. Command errored out with exit status 1: /usr/bin/python3 /usr/local/lib/python3.8/dist-packages/pip/_vendor/pep517/in_process/_in_process.py get_requires_for_build_wheel /tmp/tmpwdcvjslh Check the logs for full command output.\u001b[0m\n",
            "\u001b[31mERROR: Command errored out with exit status 1: /usr/bin/python3 /usr/local/lib/python3.8/dist-packages/pip/_vendor/pep517/in_process/_in_process.py get_requires_for_build_wheel /tmp/tmpwdcvjslh Check the logs for full command output.\u001b[0m\n"
          ]
        }
      ]
    },
    {
      "cell_type": "code",
      "metadata": {
        "id": "qhkj14WI2JxX"
      },
      "source": [
        "import tarfile\n",
        "import pandas as pd\n",
        "import os\n",
        "import librosa\n",
        "import scipy\n",
        "import numpy as np\n",
        "from numpy.lib.stride_tricks import as_strided\n",
        "from IPython.display import Audio\n",
        "\n",
        "import tensorflow.keras.backend as K\n",
        "from tensorflow.keras.preprocessing.sequence import pad_sequences\n",
        "from tensorflow.keras.layers import Input, BatchNormalization, ZeroPadding1D, Conv1D, TimeDistributed, Dense, Bidirectional, GRU, Lambda\n",
        "from tensorflow.compat.v1.keras.layers import CuDNNGRU\n",
        "from tensorflow.keras.models import Model, load_model\n",
        "from tensorflow.keras.activations import relu\n",
        "from tensorflow.keras.optimizers import Adam\n",
        "from tensorflow.keras.utils import plot_model"
      ],
      "execution_count": null,
      "outputs": []
    },
    {
      "cell_type": "markdown",
      "metadata": {
        "id": "f-1XrYBhSZ8O"
      },
      "source": [
        "#GPU Info"
      ]
    },
    {
      "cell_type": "code",
      "metadata": {
        "colab": {
          "base_uri": "https://localhost:8080/"
        },
        "id": "pBvSRh7CSYMP",
        "outputId": "9d3f25b7-93cf-4e16-9740-132b842ecd2a"
      },
      "source": [
        "!ln -sf /opt/bin/nvidia-smi /usr/bin/nvidia-smi\n",
        "!pip install gputil\n",
        "!pip install psutil\n",
        "!pip install humanize\n",
        "import psutil\n",
        "import humanize\n",
        "import os\n",
        "import GPUtil as GPU\n",
        "GPUs = GPU.getGPUs()\n",
        "# XXX: only one GPU on Colab and isn’t guaranteed\n",
        "gpu = GPUs[0]\n",
        "def printm():\n",
        " process = psutil.Process(os.getpid())\n",
        " print(\"Gen RAM Free: \" + humanize.naturalsize( psutil.virtual_memory().available ), \" | Proc size: \" + humanize.naturalsize( process.memory_info().rss))\n",
        " print(\"GPU RAM Free: {0:.0f}MB | Used: {1:.0f}MB | Util {2:3.0f}% | Total {3:.0f}MB\".format(gpu.memoryFree, gpu.memoryUsed, gpu.memoryUtil*100, gpu.memoryTotal))\n",
        " print(\"GPU Model: \", gpu.name)"
      ],
      "execution_count": null,
      "outputs": [
        {
          "output_type": "stream",
          "name": "stdout",
          "text": [
            "Looking in indexes: https://pypi.org/simple, https://us-python.pkg.dev/colab-wheels/public/simple/\n",
            "Collecting gputil\n",
            "  Downloading GPUtil-1.4.0.tar.gz (5.5 kB)\n",
            "Building wheels for collected packages: gputil\n",
            "  Building wheel for gputil (setup.py) ... \u001b[?25l\u001b[?25hdone\n",
            "  Created wheel for gputil: filename=GPUtil-1.4.0-py3-none-any.whl size=7409 sha256=b796424ce990ef4cd49ced0f4184437a8a2bee378e9062ae5a8c41923ef225ac\n",
            "  Stored in directory: /root/.cache/pip/wheels/ba/03/bb/7a97840eb54479b328672e15a536e49dc60da200fb21564d53\n",
            "Successfully built gputil\n",
            "Installing collected packages: gputil\n",
            "Successfully installed gputil-1.4.0\n",
            "Looking in indexes: https://pypi.org/simple, https://us-python.pkg.dev/colab-wheels/public/simple/\n",
            "Requirement already satisfied: psutil in /usr/local/lib/python3.8/dist-packages (5.4.8)\n",
            "Looking in indexes: https://pypi.org/simple, https://us-python.pkg.dev/colab-wheels/public/simple/\n",
            "Requirement already satisfied: humanize in /usr/local/lib/python3.8/dist-packages (0.5.1)\n"
          ]
        }
      ]
    },
    {
      "cell_type": "code",
      "metadata": {
        "id": "HeVuyEBrS35e",
        "colab": {
          "base_uri": "https://localhost:8080/"
        },
        "outputId": "8dd7ec0e-a1fe-42fc-ec06-972712cf5dba"
      },
      "source": [
        "printm()"
      ],
      "execution_count": null,
      "outputs": [
        {
          "output_type": "stream",
          "name": "stdout",
          "text": [
            "Gen RAM Free: 12.6 GB  | Proc size: 624.1 MB\n",
            "GPU RAM Free: 15109MB | Used: 0MB | Util   0% | Total 15109MB\n",
            "GPU Model:  Tesla T4\n"
          ]
        }
      ]
    },
    {
      "cell_type": "markdown",
      "metadata": {
        "id": "6PAe8WlisaVO"
      },
      "source": [
        "#Prepare char map"
      ]
    },
    {
      "cell_type": "code",
      "metadata": {
        "id": "oZP23miAseB0"
      },
      "source": [
        "# Alphabet + space + unknown\n",
        "char_map_str = \"\"\"\n",
        "<SPACE> 0\n",
        "а 1\n",
        "б 2\n",
        "в 3\n",
        "г 4\n",
        "д 5\n",
        "е 6\n",
        "ё 7\n",
        "ж 8\n",
        "з 9\n",
        "и 10\n",
        "й 11\n",
        "к 12\n",
        "л 13\n",
        "м 14\n",
        "н 15\n",
        "о 16\n",
        "п 17\n",
        "р 18\n",
        "с 19\n",
        "т 20\n",
        "у 21\n",
        "ф 22\n",
        "х 23\n",
        "ц 24\n",
        "ч 25\n",
        "ш 26\n",
        "щ 27\n",
        "ъ 28\n",
        "ы 29\n",
        "ь 30\n",
        "э 31\n",
        "ю 32\n",
        "я 33\n",
        "' 34\n",
        "\"\"\"\n",
        "\n",
        "char_map = {}\n",
        "index_map = {}\n",
        "\n",
        "for line in char_map_str.strip().split('\\n'):\n",
        "    ch, index = line.split()\n",
        "    char_map[ch] = int(index)\n",
        "    index_map[int(index)] = ch\n",
        "\n",
        "index_map[0] = ' '\n",
        "\n",
        "def text_to_int_sequence(text):\n",
        "    \"\"\" Use a character map and convert text to an integer sequence \"\"\"\n",
        "    int_sequence = []\n",
        "    for c in text.lower():\n",
        "        if c == ' ':\n",
        "            ch = char_map['<SPACE>']\n",
        "        else:\n",
        "            ch = char_map[c]\n",
        "        int_sequence.append(ch)\n",
        "    return int_sequence"
      ],
      "execution_count": null,
      "outputs": []
    },
    {
      "cell_type": "code",
      "metadata": {
        "colab": {
          "base_uri": "https://localhost:8080/"
        },
        "id": "66KwKec1ONjK",
        "outputId": "5146f1d7-7b67-4257-bb9e-4a898d1c5563"
      },
      "source": [
        "#How it works:\n",
        "print(\"char_map:\", char_map)\n",
        "print(\"index map:\", index_map)\n",
        "privet = \"Привет\"\n",
        "print(privet+\": \", text_to_int_sequence(privet))"
      ],
      "execution_count": null,
      "outputs": [
        {
          "output_type": "stream",
          "name": "stdout",
          "text": [
            "char_map: {'<SPACE>': 0, 'а': 1, 'б': 2, 'в': 3, 'г': 4, 'д': 5, 'е': 6, 'ё': 7, 'ж': 8, 'з': 9, 'и': 10, 'й': 11, 'к': 12, 'л': 13, 'м': 14, 'н': 15, 'о': 16, 'п': 17, 'р': 18, 'с': 19, 'т': 20, 'у': 21, 'ф': 22, 'х': 23, 'ц': 24, 'ч': 25, 'ш': 26, 'щ': 27, 'ъ': 28, 'ы': 29, 'ь': 30, 'э': 31, 'ю': 32, 'я': 33, \"'\": 34}\n",
            "index map: {0: ' ', 1: 'а', 2: 'б', 3: 'в', 4: 'г', 5: 'д', 6: 'е', 7: 'ё', 8: 'ж', 9: 'з', 10: 'и', 11: 'й', 12: 'к', 13: 'л', 14: 'м', 15: 'н', 16: 'о', 17: 'п', 18: 'р', 19: 'с', 20: 'т', 21: 'у', 22: 'ф', 23: 'х', 24: 'ц', 25: 'ч', 26: 'ш', 27: 'щ', 28: 'ъ', 29: 'ы', 30: 'ь', 31: 'э', 32: 'ю', 33: 'я', 34: \"'\"}\n",
            "Привет:  [17, 18, 10, 3, 6, 20]\n"
          ]
        }
      ]
    },
    {
      "cell_type": "markdown",
      "metadata": {
        "id": "n-nOvEOPipUU"
      },
      "source": [
        "#Import Data"
      ]
    },
    {
      "cell_type": "code",
      "metadata": {
        "id": "dDmPUGY_ivE0"
      },
      "source": [
        "#Preparing DataFrame\n",
        "def combine_all_wavs_and_trans_from_csvs(csvslist, sortagrad=True, createwordlist=False, delBigTranscripts=True):\n",
        "    '''Assume that data is in csv already exists with data in form\n",
        "        path, size, transcript\n",
        "        this is best approach for loading in moz deepspeech processed files.\n",
        "    '''\n",
        "\n",
        "    df_all = pd.DataFrame()\n",
        "\n",
        "    #Reading all tsv (same as csv, but TAB separated)\n",
        "    for csv in csvslist.split(','):\n",
        "        if os.path.isfile(csv):\n",
        "            df_new = pd.read_csv(csv, sep='\\t', encoding='utf-8')\n",
        "            df_all = df_all.append(df_new)\n",
        "\n",
        "    #Removing word \"Firefox\"\n",
        "    df_all = df_all[df_all['sentence'] != \"Firefox\"]\n",
        "\n",
        "    #Removing long words\n",
        "    if delBigTranscripts:\n",
        "        df_final = df_all[df_all['sentence'].map(len) <= 40]\n",
        "    else:\n",
        "        df_final = df_all\n",
        "\n",
        "    # can output the word list here if required\n",
        "    if createwordlist:\n",
        "        df_final['sentence'].to_csv(\"./DeepSpeech/df_all_word_list.csv\", sep=',', header=False, index=False)  # reorder + out\n",
        "\n",
        "    return df_final\n",
        "\n",
        "def get_number_of_char_classes():\n",
        "    ## would be better to check with dataset (once cleaned)\n",
        "    num_classes = len(char_map)+1 ##need +1 for ctc null char +1 pad\n",
        "    return num_classes"
      ],
      "execution_count": null,
      "outputs": []
    },
    {
      "cell_type": "markdown",
      "metadata": {
        "id": "MlfqH0VEkFIy"
      },
      "source": [
        "#Spectrogram processor"
      ]
    },
    {
      "cell_type": "code",
      "metadata": {
        "id": "azEHWP8bkJIW"
      },
      "source": [
        "spectrogram_cache = {}\n",
        "\n",
        "##############################################################################\n",
        "\n",
        "def spectrogram(samples, fft_length=256, sample_rate=2, hop_length=128):\n",
        "    \"\"\"\n",
        "    Compute the spectrogram for a real signal.\n",
        "    The parameters follow the naming convention of\n",
        "    matplotlib.mlab.specgram\n",
        "    Args:\n",
        "        samples (1D array): input audio signal\n",
        "        fft_length (int): number of elements in fft window\n",
        "        sample_rate (scalar): sample rate\n",
        "        hop_length (int): hop length (relative offset between neighboring\n",
        "            fft windows).\n",
        "    Returns:\n",
        "        x (2D array): spectrogram [frequency x time]\n",
        "        freq (1D array): frequency of each row in x\n",
        "    Note:\n",
        "        This is a truncating computation e.g. if fft_length=10,\n",
        "        hop_length=5 and the signal has 23 elements, then the\n",
        "        last 3 elements will be truncated.\n",
        "    \"\"\"\n",
        "    assert not np.iscomplexobj(samples), \"Must not pass in complex numbers\"\n",
        "\n",
        "    window = np.hanning(fft_length)[:, None]\n",
        "    window_norm = np.sum(window**2)\n",
        "\n",
        "    # The scaling below follows the convention of\n",
        "    # matplotlib.mlab.specgram which is the same as\n",
        "    # matlabs specgram.\n",
        "    scale = window_norm * sample_rate\n",
        "\n",
        "    trunc = (len(samples) - fft_length) % hop_length\n",
        "    x = samples[:len(samples) - trunc]\n",
        "\n",
        "    # \"stride trick\" reshape to include overlap\n",
        "    nshape = (fft_length, (len(x) - fft_length) // hop_length + 1)\n",
        "    nstrides = (x.strides[0], x.strides[0] * hop_length)\n",
        "    x = as_strided(x, shape=nshape, strides=nstrides)\n",
        "\n",
        "    # window stride sanity check\n",
        "    assert np.all(x[:, 1] == samples[hop_length:(hop_length + fft_length)])\n",
        "\n",
        "    # broadcast window, compute fft over columns and square mod\n",
        "    x = np.fft.rfft(x * window, axis=0)\n",
        "    x = np.absolute(x)**2\n",
        "\n",
        "    # scale, 2.0 for everything except dc and fft_length/2\n",
        "    x[1:-1, :] *= (2.0 / scale)\n",
        "    x[(0, -1), :] /= scale\n",
        "\n",
        "    freqs = float(sample_rate) / fft_length * np.arange(x.shape[0])\n",
        "\n",
        "    return x, freqs\n",
        "\n",
        "\n",
        "def spectrogram_from_file(filename, step=10, window=20, max_freq=None,\n",
        "                          eps=1e-14):\n",
        "    \"\"\" Calculate the log of linear spectrogram from FFT energy\n",
        "    Params:\n",
        "        filename (str): Path to the audio file\n",
        "        step (int): Step size in milliseconds between windows\n",
        "        window (int): FFT window size in milliseconds\n",
        "        max_freq (int): Only FFT bins corresponding to frequencies between\n",
        "            [0, max_freq] are returned\n",
        "        eps (float): Small value to ensure numerical stability (for ln(x))\n",
        "    \"\"\"\n",
        "\n",
        "    if filename in spectrogram_cache:\n",
        "      return spectrogram_cache[filename]\n",
        "\n",
        "\n",
        "    audio, sample_rate = librosa.load(filename, sr=16000)\n",
        "    max_freq = sample_rate / 2\n",
        "    if step > window:\n",
        "      raise ValueError(\"step size must not be greater than window size\")\n",
        "    hop_length = int(0.001 * step * sample_rate)\n",
        "    fft_length = int(0.001 * window * sample_rate)\n",
        "    pxx, freqs = spectrogram(\n",
        "            audio, fft_length=fft_length, sample_rate=sample_rate,\n",
        "            hop_length=hop_length)\n",
        "    ind = np.where(freqs <= max_freq)[0][-1] + 1\n",
        "    spg = np.transpose(np.log(pxx[:ind, :] + eps))\n",
        "    spectrogram_cache[filename] = spg\n",
        "    return spg"
      ],
      "execution_count": null,
      "outputs": []
    },
    {
      "cell_type": "markdown",
      "metadata": {
        "id": "yX3XnezqHBzY"
      },
      "source": [
        "#Batch generator"
      ]
    },
    {
      "cell_type": "code",
      "metadata": {
        "id": "EE5HeH_2HGUA"
      },
      "source": [
        "class BatchGenerator(object):\n",
        "    def __init__(self, dataframe, batch_size):\n",
        "        self.df = dataframe.copy()\n",
        "        self.wavpath  = [soundfile_path + filepath for filepath in self.df['path'].tolist()]\n",
        "        self.transcript = self.df['sentence'].tolist()\n",
        "        self.batch_size = batch_size\n",
        "        self.cur_index = 0\n",
        "\n",
        "        assert (self.batch_size <= len(self.wavpath))\n",
        "\n",
        "        #Free up memory of unneeded data\n",
        "        del dataframe\n",
        "        #self.df = None\n",
        "        del self.df\n",
        "\n",
        "    def get_batch(self, idx):\n",
        "\n",
        "        #select files\n",
        "        batch_x = self.wavpath[idx * self.batch_size:(idx + 1) * self.batch_size]\n",
        "\n",
        "        #select transcriptions\n",
        "        batch_y_trans = self.transcript[idx * self.batch_size:(idx + 1) * self.batch_size]\n",
        "\n",
        "        #Calculate longest spectrogram\n",
        "        x_val = [get_max_specto_time(file_name) for file_name in batch_x]\n",
        "        max_val = max(x_val)\n",
        "\n",
        "        #Prepare spectrograms with shape aligned to longest\n",
        "        X_data = np.array([make_specto_shape(file_name, padlen=max_val) for file_name in batch_x])\n",
        "\n",
        "        #longest transcription\n",
        "        y_val = [get_maxseq_len(l) for l in batch_y_trans]\n",
        "        max_y = max(y_val)\n",
        "\n",
        "        #prepare labels aligned to longest\n",
        "        labels = np.array([get_intseq(l, max_intseq_length = max_y) for l in batch_y_trans])\n",
        "\n",
        "        input_length = np.array(x_val)\n",
        "        label_length = np.array(y_val)\n",
        "\n",
        "        # source_str (used for human readable output on callback)\n",
        "        # Just for callbacks\n",
        "        source_str = np.array([l for l in batch_y_trans])\n",
        "\n",
        "        #Model input\n",
        "        inputs = {\n",
        "            'the_input': X_data,\n",
        "            'the_labels': labels,\n",
        "            'input_length': input_length,\n",
        "            'label_length': label_length,\n",
        "            'source_str': source_str\n",
        "        }\n",
        "\n",
        "        #print(\"get_batch idx = \", idx)\n",
        "        #print(\"_____________inputs________________\")\n",
        "        #print(\"(X_data) the_input.shape\", X_data.shape)\n",
        "        #print(\"(labels) the_labels:\", inputs['the_labels'])\n",
        "        #print(\"(input_length) input_length:\", inputs['input_length'])\n",
        "        #print(\"(label_length) label_length:\", inputs['label_length'])\n",
        "        #print(\"(source_str) source_str:\", inputs['source_str'])\n",
        "\n",
        "        #Setting output to zero because model output is loss\n",
        "        outputs = {'ctc': np.zeros([self.batch_size])}\n",
        "        #print(\"outputs: \", outputs['ctc'])\n",
        "\n",
        "        return (inputs, outputs)\n",
        "\n",
        "    def next_batch(self):\n",
        "\n",
        "        #infinite iterations\n",
        "        while 1:\n",
        "            if (self.cur_index + 1) * self.batch_size >= len(self.wavpath) - self.batch_size:\n",
        "                self.cur_index = 0\n",
        "\n",
        "            ret = self.get_batch(self.cur_index)\n",
        "\n",
        "            self.cur_index += 1\n",
        "\n",
        "            yield ret\n",
        "\n",
        "#same as len(trans). But in case of bigrams is not equal to len(trans)\n",
        "def get_maxseq_len(trans):\n",
        "    # PAD\n",
        "    t = text_to_int_sequence(trans)\n",
        "    return len(t)\n",
        "\n",
        "def get_intseq(trans, max_intseq_length=80):\n",
        "    # PAD\n",
        "    t = text_to_int_sequence(trans)\n",
        "    while (len(t) < max_intseq_length):\n",
        "        t.append(34)  # replace with a space char to pad\n",
        "    return t\n",
        "\n",
        "\n",
        "def get_max_specto_time(filename):\n",
        "    r = spectrogram_from_file(filename)\n",
        "    return r.shape[0]  #\n",
        "\n",
        "\n",
        "def make_specto_shape(filename, padlen=778):\n",
        "    r = spectrogram_from_file(filename)\n",
        "    t = np.transpose(r)  # 2D array ->  spec x timesamples\n",
        "    X = pad_sequences(t, maxlen=padlen, dtype='float', padding='post', truncating='post').T\n",
        "    return X  # MAXtimesamples x specto {max x 161}"
      ],
      "execution_count": null,
      "outputs": []
    },
    {
      "cell_type": "code",
      "metadata": {
        "colab": {
          "base_uri": "https://localhost:8080/"
        },
        "id": "fTgFLc80R2Gp",
        "outputId": "bb389433-2e20-4c92-8a6a-a8e26d33f134"
      },
      "source": [
        "print(\"get_maxseq_len('Привет')\", get_maxseq_len(\"Привет\"))\n",
        "print(\"get_intseq('Привет')\", get_intseq(\"Привет\"))"
      ],
      "execution_count": null,
      "outputs": [
        {
          "output_type": "stream",
          "name": "stdout",
          "text": [
            "get_maxseq_len('Привет') 6\n",
            "get_intseq('Привет') [17, 18, 10, 3, 6, 20, 34, 34, 34, 34, 34, 34, 34, 34, 34, 34, 34, 34, 34, 34, 34, 34, 34, 34, 34, 34, 34, 34, 34, 34, 34, 34, 34, 34, 34, 34, 34, 34, 34, 34, 34, 34, 34, 34, 34, 34, 34, 34, 34, 34, 34, 34, 34, 34, 34, 34, 34, 34, 34, 34, 34, 34, 34, 34, 34, 34, 34, 34, 34, 34, 34, 34, 34, 34, 34, 34, 34, 34, 34, 34]\n"
          ]
        }
      ]
    },
    {
      "cell_type": "markdown",
      "metadata": {
        "id": "6S6dtcug2rE4"
      },
      "source": [
        "#Model"
      ]
    },
    {
      "cell_type": "code",
      "metadata": {
        "id": "zZAlj05q2tMW"
      },
      "source": [
        "# Define CTC loss\n",
        "def ctc_lambda_func(args):\n",
        "    y_pred, labels, input_length, label_length = args\n",
        "\n",
        "    return K.ctc_batch_cost(labels, y_pred, input_length, label_length)\n",
        "\n",
        "\n",
        "def clipped_relu(x):\n",
        "    return relu(x, max_value=20)\n",
        "\n",
        "def ds2_gru_model(input_dim=161, fc_size=1024, rnn_size=512, output_dim=29, initialization='glorot_uniform',\n",
        "                  conv_layers=1, gru_layers=4, use_conv=True):\n",
        "    \"\"\" DeepSpeech 2 implementation\n",
        "    Architecture:\n",
        "        Input Spectrogram TIMEx161\n",
        "        1 Batch Normalisation layer on input\n",
        "        1-3 Convolutional Layers\n",
        "        1 Batch Normalisation layer\n",
        "        1-7 BiDirectional GRU Layers\n",
        "        1 Batch Normalisation layer\n",
        "        1 Fully connected Dense\n",
        "        1 Softmax output\n",
        "    Details:\n",
        "       - Uses Spectrogram as input rather than MFCC\n",
        "       - Did not use BN on the first input\n",
        "       - Network does not dynamically adapt to maximum audio size in the first convolutional layer. Max conv\n",
        "          length padded at 2048 chars, otherwise use_conv=False\n",
        "    Reference:\n",
        "        https://arxiv.org/abs/1512.02595\n",
        "    \"\"\"\n",
        "\n",
        "    input_data = Input(shape=(None, input_dim), name='the_input') #<-Spectrograms with 161 freqs\n",
        "    x = BatchNormalization()(input_data)\n",
        "\n",
        "    if use_conv:\n",
        "        conv = ZeroPadding1D(padding=(0, 2048))(x)\n",
        "        for l in range(conv_layers):\n",
        "            x = Conv1D(filters=fc_size, name='conv_{}'.format(l+1), kernel_size=11, padding='valid', activation='relu', strides=2)(conv)\n",
        "    else:\n",
        "        for l in range(conv_layers):\n",
        "            x = TimeDistributed(Dense(fc_size, name='fc_{}'.format(l + 1), activation='relu'))(x)  # >>(?, time, fc_size)\n",
        "\n",
        "    x = BatchNormalization(axis=-1, momentum=0.99, epsilon=1e-3, center=True, scale=True)(x)\n",
        "\n",
        "    for l in range(gru_layers):\n",
        "        #x = Bidirectional(\n",
        "        #        layer = GRU(rnn_size, name='gru_{}'.format(l + 1), return_sequences=True, activation='relu', kernel_initializer=initialization),\n",
        "        #        merge_mode='sum')(x)\n",
        "        x = Bidirectional(\n",
        "                layer = CuDNNGRU(rnn_size, name='gru_{}'.format(l + 1), return_sequences=True),\n",
        "                merge_mode='sum')(x)\n",
        "\n",
        "    x = BatchNormalization(axis=-1, momentum=0.99, epsilon=1e-3, center=True, scale=True)(x)\n",
        "\n",
        "    # Last Layer 5+6 Time Dist Dense Layer & Softmax\n",
        "    x = TimeDistributed(Dense(fc_size, activation=clipped_relu))(x)\n",
        "    y_pred = TimeDistributed(Dense(output_dim, name=\"y_pred\", activation=\"softmax\"))(x)\n",
        "\n",
        "    labels = Input(name='the_labels', shape=[None,], dtype='int32')\n",
        "    input_length = Input(name='input_length', shape=[1], dtype='int32')\n",
        "    label_length = Input(name='label_length', shape=[1], dtype='int32')\n",
        "\n",
        "    # Keras doesn't currently support loss funcs with extra parameters\n",
        "    # so CTC loss is implemented in a lambda layer\n",
        "    loss_out = Lambda(ctc_lambda_func, output_shape=(1,), name='ctc')([y_pred,\n",
        "                                                                       labels,\n",
        "                                                                       input_length,\n",
        "                                                                       label_length])\n",
        "\n",
        "    learn_model = Model(inputs=[input_data, labels, input_length, label_length], outputs=loss_out)\n",
        "\n",
        "    return learn_model\n",
        "\n",
        "#this is our loss for optimizer\n",
        "def ctc(y_true, y_pred):\n",
        "    return y_pred\n",
        "\n",
        "\n",
        "def predict(filename, work_model):\n",
        "  #Prepare spectrogram\n",
        "  X_data = np.array([make_specto_shape(audio_file_name, padlen=get_max_specto_time(audio_file_name))])\n",
        "\n",
        "  #predict...\n",
        "  prediction = work_model.predict(X_data)\n",
        "  result = \"\"\n",
        "\n",
        "  #for each time stamp\n",
        "  for timestamp in range(prediction.shape[1]):\n",
        "    #get most probable char\n",
        "    pchar = np.argmax(prediction[0][timestamp])\n",
        "\n",
        "    #and if this char is not null\n",
        "    if pchar in index_map:\n",
        "      #take this char\n",
        "      char = index_map[pchar]\n",
        "\n",
        "      #if it is first char\n",
        "      if result == \"\":\n",
        "        result = char\n",
        "      elif result[-1]!=char:\n",
        "        #and not equal to the last char in string, to avoid hhhheeeeelllooooo\n",
        "        result = result + char\n",
        "  return result, X_data, prediction\n"
      ],
      "execution_count": null,
      "outputs": []
    },
    {
      "cell_type": "code",
      "source": [
        "from google.colab import drive\n",
        "drive.mount('/content/drive')"
      ],
      "metadata": {
        "colab": {
          "base_uri": "https://localhost:8080/"
        },
        "id": "_hpgZYP_Cl6l",
        "outputId": "2a65fccc-182f-4236-b5fc-8d8f0dc8af07"
      },
      "execution_count": null,
      "outputs": [
        {
          "output_type": "stream",
          "name": "stdout",
          "text": [
            "Mounted at /content/drive\n"
          ]
        }
      ]
    },
    {
      "cell_type": "markdown",
      "metadata": {
        "id": "EBdh_xG1QDEB"
      },
      "source": [
        "#Train Model"
      ]
    },
    {
      "cell_type": "code",
      "metadata": {
        "id": "SCVpf6FmzJqX"
      },
      "source": [
        "#путь к tar CommonVoice.\n",
        "tarArchive = \"/content/drive/MyDrive/Базы/test_1/cv-corpus-5-singleword.tar\"\n",
        "\n",
        "\n",
        "#корневая папка для извлечения файлов\n",
        "targetFolder = \"./DeepSpeech/\"\n",
        "\n",
        "\n",
        "#полный путь к извлеченным файлам\n",
        "soundfile_path = \"/content/DeepSpeech/cv-corpus-5-singleword/ru/clips/\"\n",
        "\n",
        "#tsv со всеми файлами\n",
        "train_files = \"/content/drive/MyDrive/Базы/test_1/validated.tsv\"\n",
        "\n",
        "#tsv с файлами проверки\n",
        "valid_files = \"/content/drive/MyDrive/Базы/test_1/test.tsv\"\n",
        "\n",
        "#batch size\n",
        "batchsize = 4\n",
        "\n",
        "#number of epochs\n",
        "epochs = 25"
      ],
      "execution_count": null,
      "outputs": []
    },
    {
      "cell_type": "code",
      "metadata": {
        "id": "BXVso5dOPUHO"
      },
      "source": [
        "#extract data from tar\n",
        "with tarfile.open(tarArchive) as tar:\n",
        "    subdir_and_files = [\n",
        "        tarinfo for tarinfo in tar.getmembers()\n",
        "        if tarinfo.name.startswith(\"cv-corpus-5-singleword/ru\")\n",
        "    ]\n",
        "    tar.extractall(path=targetFolder, members=subdir_and_files)"
      ],
      "execution_count": null,
      "outputs": []
    },
    {
      "cell_type": "code",
      "metadata": {
        "id": "l4aRXTqtUB7C"
      },
      "source": [
        "#prepare data frames for train and validation\n",
        "df_train = combine_all_wavs_and_trans_from_csvs(train_files)\n",
        "df_valid = combine_all_wavs_and_trans_from_csvs(valid_files)\n",
        "\n",
        "#remove validation files from training data\n",
        "df_train = df_train[~df_train['path'].isin(df_valid['path'].tolist())]"
      ],
      "execution_count": null,
      "outputs": []
    },
    {
      "cell_type": "code",
      "metadata": {
        "colab": {
          "base_uri": "https://localhost:8080/",
          "height": 424
        },
        "id": "qC9zQIADvY_r",
        "outputId": "d67fe947-1649-4330-acfe-54b6b03b67bc"
      },
      "source": [
        "df_train"
      ],
      "execution_count": null,
      "outputs": [
        {
          "output_type": "execute_result",
          "data": {
            "text/plain": [
              "                                              client_id  \\\n",
              "4     e35268d5e074528d224b3d2f36f6f0e970f9106ec177f4...   \n",
              "5     e432518f957fb1037df970b83c6d9be05f01e6f44a6f79...   \n",
              "6     f74762bf051035e39c94e579c4105e3d5290ee7e27e187...   \n",
              "7     9e9729d6a1aaf37b902e7fa18e8f58f424b786aeac24a0...   \n",
              "8     9e9729d6a1aaf37b902e7fa18e8f58f424b786aeac24a0...   \n",
              "...                                                 ...   \n",
              "1471  e895026e9fcd649ecacb90392f7bee2d66c8250ba20cbf...   \n",
              "1472  e895026e9fcd649ecacb90392f7bee2d66c8250ba20cbf...   \n",
              "1473  e895026e9fcd649ecacb90392f7bee2d66c8250ba20cbf...   \n",
              "1474  e895026e9fcd649ecacb90392f7bee2d66c8250ba20cbf...   \n",
              "1475  e895026e9fcd649ecacb90392f7bee2d66c8250ba20cbf...   \n",
              "\n",
              "                              path sentence  up_votes  down_votes       age  \\\n",
              "4     common_voice_ru_22289561.mp3    шесть         2           0       NaN   \n",
              "5     common_voice_ru_21892477.mp3    шесть         2           1  twenties   \n",
              "6     common_voice_ru_21715097.mp3     пять         2           0  twenties   \n",
              "7     common_voice_ru_22279652.mp3   восемь         2           0       NaN   \n",
              "8     common_voice_ru_22279655.mp3    шесть         2           0       NaN   \n",
              "...                            ...      ...       ...         ...       ...   \n",
              "1471  common_voice_ru_22351565.mp3      два         2           0       NaN   \n",
              "1472  common_voice_ru_22351566.mp3   девять         2           0       NaN   \n",
              "1473  common_voice_ru_22351567.mp3    шесть         2           0       NaN   \n",
              "1474  common_voice_ru_22351568.mp3   восемь         2           0       NaN   \n",
              "1475  common_voice_ru_22351569.mp3      нет         2           0       NaN   \n",
              "\n",
              "      gender  accent locale               segment  \n",
              "4        NaN     NaN     ru  Singleword Benchmark  \n",
              "5       male     NaN     ru  Singleword Benchmark  \n",
              "6     female     NaN     ru  Singleword Benchmark  \n",
              "7        NaN     NaN     ru  Singleword Benchmark  \n",
              "8        NaN     NaN     ru  Singleword Benchmark  \n",
              "...      ...     ...    ...                   ...  \n",
              "1471     NaN     NaN     ru  Singleword Benchmark  \n",
              "1472     NaN     NaN     ru  Singleword Benchmark  \n",
              "1473     NaN     NaN     ru  Singleword Benchmark  \n",
              "1474     NaN     NaN     ru  Singleword Benchmark  \n",
              "1475     NaN     NaN     ru  Singleword Benchmark  \n",
              "\n",
              "[1363 rows x 10 columns]"
            ],
            "text/html": [
              "\n",
              "  <div id=\"df-c27ffd06-f29f-4e1b-a646-924736138ccb\">\n",
              "    <div class=\"colab-df-container\">\n",
              "      <div>\n",
              "<style scoped>\n",
              "    .dataframe tbody tr th:only-of-type {\n",
              "        vertical-align: middle;\n",
              "    }\n",
              "\n",
              "    .dataframe tbody tr th {\n",
              "        vertical-align: top;\n",
              "    }\n",
              "\n",
              "    .dataframe thead th {\n",
              "        text-align: right;\n",
              "    }\n",
              "</style>\n",
              "<table border=\"1\" class=\"dataframe\">\n",
              "  <thead>\n",
              "    <tr style=\"text-align: right;\">\n",
              "      <th></th>\n",
              "      <th>client_id</th>\n",
              "      <th>path</th>\n",
              "      <th>sentence</th>\n",
              "      <th>up_votes</th>\n",
              "      <th>down_votes</th>\n",
              "      <th>age</th>\n",
              "      <th>gender</th>\n",
              "      <th>accent</th>\n",
              "      <th>locale</th>\n",
              "      <th>segment</th>\n",
              "    </tr>\n",
              "  </thead>\n",
              "  <tbody>\n",
              "    <tr>\n",
              "      <th>4</th>\n",
              "      <td>e35268d5e074528d224b3d2f36f6f0e970f9106ec177f4...</td>\n",
              "      <td>common_voice_ru_22289561.mp3</td>\n",
              "      <td>шесть</td>\n",
              "      <td>2</td>\n",
              "      <td>0</td>\n",
              "      <td>NaN</td>\n",
              "      <td>NaN</td>\n",
              "      <td>NaN</td>\n",
              "      <td>ru</td>\n",
              "      <td>Singleword Benchmark</td>\n",
              "    </tr>\n",
              "    <tr>\n",
              "      <th>5</th>\n",
              "      <td>e432518f957fb1037df970b83c6d9be05f01e6f44a6f79...</td>\n",
              "      <td>common_voice_ru_21892477.mp3</td>\n",
              "      <td>шесть</td>\n",
              "      <td>2</td>\n",
              "      <td>1</td>\n",
              "      <td>twenties</td>\n",
              "      <td>male</td>\n",
              "      <td>NaN</td>\n",
              "      <td>ru</td>\n",
              "      <td>Singleword Benchmark</td>\n",
              "    </tr>\n",
              "    <tr>\n",
              "      <th>6</th>\n",
              "      <td>f74762bf051035e39c94e579c4105e3d5290ee7e27e187...</td>\n",
              "      <td>common_voice_ru_21715097.mp3</td>\n",
              "      <td>пять</td>\n",
              "      <td>2</td>\n",
              "      <td>0</td>\n",
              "      <td>twenties</td>\n",
              "      <td>female</td>\n",
              "      <td>NaN</td>\n",
              "      <td>ru</td>\n",
              "      <td>Singleword Benchmark</td>\n",
              "    </tr>\n",
              "    <tr>\n",
              "      <th>7</th>\n",
              "      <td>9e9729d6a1aaf37b902e7fa18e8f58f424b786aeac24a0...</td>\n",
              "      <td>common_voice_ru_22279652.mp3</td>\n",
              "      <td>восемь</td>\n",
              "      <td>2</td>\n",
              "      <td>0</td>\n",
              "      <td>NaN</td>\n",
              "      <td>NaN</td>\n",
              "      <td>NaN</td>\n",
              "      <td>ru</td>\n",
              "      <td>Singleword Benchmark</td>\n",
              "    </tr>\n",
              "    <tr>\n",
              "      <th>8</th>\n",
              "      <td>9e9729d6a1aaf37b902e7fa18e8f58f424b786aeac24a0...</td>\n",
              "      <td>common_voice_ru_22279655.mp3</td>\n",
              "      <td>шесть</td>\n",
              "      <td>2</td>\n",
              "      <td>0</td>\n",
              "      <td>NaN</td>\n",
              "      <td>NaN</td>\n",
              "      <td>NaN</td>\n",
              "      <td>ru</td>\n",
              "      <td>Singleword Benchmark</td>\n",
              "    </tr>\n",
              "    <tr>\n",
              "      <th>...</th>\n",
              "      <td>...</td>\n",
              "      <td>...</td>\n",
              "      <td>...</td>\n",
              "      <td>...</td>\n",
              "      <td>...</td>\n",
              "      <td>...</td>\n",
              "      <td>...</td>\n",
              "      <td>...</td>\n",
              "      <td>...</td>\n",
              "      <td>...</td>\n",
              "    </tr>\n",
              "    <tr>\n",
              "      <th>1471</th>\n",
              "      <td>e895026e9fcd649ecacb90392f7bee2d66c8250ba20cbf...</td>\n",
              "      <td>common_voice_ru_22351565.mp3</td>\n",
              "      <td>два</td>\n",
              "      <td>2</td>\n",
              "      <td>0</td>\n",
              "      <td>NaN</td>\n",
              "      <td>NaN</td>\n",
              "      <td>NaN</td>\n",
              "      <td>ru</td>\n",
              "      <td>Singleword Benchmark</td>\n",
              "    </tr>\n",
              "    <tr>\n",
              "      <th>1472</th>\n",
              "      <td>e895026e9fcd649ecacb90392f7bee2d66c8250ba20cbf...</td>\n",
              "      <td>common_voice_ru_22351566.mp3</td>\n",
              "      <td>девять</td>\n",
              "      <td>2</td>\n",
              "      <td>0</td>\n",
              "      <td>NaN</td>\n",
              "      <td>NaN</td>\n",
              "      <td>NaN</td>\n",
              "      <td>ru</td>\n",
              "      <td>Singleword Benchmark</td>\n",
              "    </tr>\n",
              "    <tr>\n",
              "      <th>1473</th>\n",
              "      <td>e895026e9fcd649ecacb90392f7bee2d66c8250ba20cbf...</td>\n",
              "      <td>common_voice_ru_22351567.mp3</td>\n",
              "      <td>шесть</td>\n",
              "      <td>2</td>\n",
              "      <td>0</td>\n",
              "      <td>NaN</td>\n",
              "      <td>NaN</td>\n",
              "      <td>NaN</td>\n",
              "      <td>ru</td>\n",
              "      <td>Singleword Benchmark</td>\n",
              "    </tr>\n",
              "    <tr>\n",
              "      <th>1474</th>\n",
              "      <td>e895026e9fcd649ecacb90392f7bee2d66c8250ba20cbf...</td>\n",
              "      <td>common_voice_ru_22351568.mp3</td>\n",
              "      <td>восемь</td>\n",
              "      <td>2</td>\n",
              "      <td>0</td>\n",
              "      <td>NaN</td>\n",
              "      <td>NaN</td>\n",
              "      <td>NaN</td>\n",
              "      <td>ru</td>\n",
              "      <td>Singleword Benchmark</td>\n",
              "    </tr>\n",
              "    <tr>\n",
              "      <th>1475</th>\n",
              "      <td>e895026e9fcd649ecacb90392f7bee2d66c8250ba20cbf...</td>\n",
              "      <td>common_voice_ru_22351569.mp3</td>\n",
              "      <td>нет</td>\n",
              "      <td>2</td>\n",
              "      <td>0</td>\n",
              "      <td>NaN</td>\n",
              "      <td>NaN</td>\n",
              "      <td>NaN</td>\n",
              "      <td>ru</td>\n",
              "      <td>Singleword Benchmark</td>\n",
              "    </tr>\n",
              "  </tbody>\n",
              "</table>\n",
              "<p>1363 rows × 10 columns</p>\n",
              "</div>\n",
              "      <button class=\"colab-df-convert\" onclick=\"convertToInteractive('df-c27ffd06-f29f-4e1b-a646-924736138ccb')\"\n",
              "              title=\"Convert this dataframe to an interactive table.\"\n",
              "              style=\"display:none;\">\n",
              "        \n",
              "  <svg xmlns=\"http://www.w3.org/2000/svg\" height=\"24px\"viewBox=\"0 0 24 24\"\n",
              "       width=\"24px\">\n",
              "    <path d=\"M0 0h24v24H0V0z\" fill=\"none\"/>\n",
              "    <path d=\"M18.56 5.44l.94 2.06.94-2.06 2.06-.94-2.06-.94-.94-2.06-.94 2.06-2.06.94zm-11 1L8.5 8.5l.94-2.06 2.06-.94-2.06-.94L8.5 2.5l-.94 2.06-2.06.94zm10 10l.94 2.06.94-2.06 2.06-.94-2.06-.94-.94-2.06-.94 2.06-2.06.94z\"/><path d=\"M17.41 7.96l-1.37-1.37c-.4-.4-.92-.59-1.43-.59-.52 0-1.04.2-1.43.59L10.3 9.45l-7.72 7.72c-.78.78-.78 2.05 0 2.83L4 21.41c.39.39.9.59 1.41.59.51 0 1.02-.2 1.41-.59l7.78-7.78 2.81-2.81c.8-.78.8-2.07 0-2.86zM5.41 20L4 18.59l7.72-7.72 1.47 1.35L5.41 20z\"/>\n",
              "  </svg>\n",
              "      </button>\n",
              "      \n",
              "  <style>\n",
              "    .colab-df-container {\n",
              "      display:flex;\n",
              "      flex-wrap:wrap;\n",
              "      gap: 12px;\n",
              "    }\n",
              "\n",
              "    .colab-df-convert {\n",
              "      background-color: #E8F0FE;\n",
              "      border: none;\n",
              "      border-radius: 50%;\n",
              "      cursor: pointer;\n",
              "      display: none;\n",
              "      fill: #1967D2;\n",
              "      height: 32px;\n",
              "      padding: 0 0 0 0;\n",
              "      width: 32px;\n",
              "    }\n",
              "\n",
              "    .colab-df-convert:hover {\n",
              "      background-color: #E2EBFA;\n",
              "      box-shadow: 0px 1px 2px rgba(60, 64, 67, 0.3), 0px 1px 3px 1px rgba(60, 64, 67, 0.15);\n",
              "      fill: #174EA6;\n",
              "    }\n",
              "\n",
              "    [theme=dark] .colab-df-convert {\n",
              "      background-color: #3B4455;\n",
              "      fill: #D2E3FC;\n",
              "    }\n",
              "\n",
              "    [theme=dark] .colab-df-convert:hover {\n",
              "      background-color: #434B5C;\n",
              "      box-shadow: 0px 1px 3px 1px rgba(0, 0, 0, 0.15);\n",
              "      filter: drop-shadow(0px 1px 2px rgba(0, 0, 0, 0.3));\n",
              "      fill: #FFFFFF;\n",
              "    }\n",
              "  </style>\n",
              "\n",
              "      <script>\n",
              "        const buttonEl =\n",
              "          document.querySelector('#df-c27ffd06-f29f-4e1b-a646-924736138ccb button.colab-df-convert');\n",
              "        buttonEl.style.display =\n",
              "          google.colab.kernel.accessAllowed ? 'block' : 'none';\n",
              "\n",
              "        async function convertToInteractive(key) {\n",
              "          const element = document.querySelector('#df-c27ffd06-f29f-4e1b-a646-924736138ccb');\n",
              "          const dataTable =\n",
              "            await google.colab.kernel.invokeFunction('convertToInteractive',\n",
              "                                                     [key], {});\n",
              "          if (!dataTable) return;\n",
              "\n",
              "          const docLinkHtml = 'Like what you see? Visit the ' +\n",
              "            '<a target=\"_blank\" href=https://colab.research.google.com/notebooks/data_table.ipynb>data table notebook</a>'\n",
              "            + ' to learn more about interactive tables.';\n",
              "          element.innerHTML = '';\n",
              "          dataTable['output_type'] = 'display_data';\n",
              "          await google.colab.output.renderOutput(dataTable, element);\n",
              "          const docLink = document.createElement('div');\n",
              "          docLink.innerHTML = docLinkHtml;\n",
              "          element.appendChild(docLink);\n",
              "        }\n",
              "      </script>\n",
              "    </div>\n",
              "  </div>\n",
              "  "
            ]
          },
          "metadata": {},
          "execution_count": 16
        }
      ]
    },
    {
      "cell_type": "code",
      "metadata": {
        "colab": {
          "base_uri": "https://localhost:8080/",
          "height": 175
        },
        "id": "ksulbepkve37",
        "outputId": "8d7d5387-3f04-473a-e9ed-adf5568a3351"
      },
      "source": [
        "df_valid"
      ],
      "execution_count": null,
      "outputs": [
        {
          "output_type": "execute_result",
          "data": {
            "text/plain": [
              "                                           client_id  \\\n",
              "0  673764e8892d6d0613f4950192a9920ea9844b59d59207...   \n",
              "1  c32636735fe9b4305b7c2c1d42961c6ff9db893672886e...   \n",
              "2  d640393cf6111a6fdad53190da7961ccabf6fef99084dc...   \n",
              "3  db602929cf83e32b3bb6d33ddf2fe517c09b7265de4d12...   \n",
              "\n",
              "                           path sentence  up_votes  down_votes       age  \\\n",
              "0  common_voice_ru_22485647.mp3     ноль         2           0       NaN   \n",
              "1  common_voice_ru_22159794.mp3       Эй         2           0     teens   \n",
              "2  common_voice_ru_21670602.mp3       да         2           0  thirties   \n",
              "3  common_voice_ru_21781606.mp3      два         2           0  twenties   \n",
              "\n",
              "  gender  accent locale               segment  \n",
              "0    NaN     NaN     ru  Singleword Benchmark  \n",
              "1   male     NaN     ru  Singleword Benchmark  \n",
              "2   male     NaN     ru  Singleword Benchmark  \n",
              "3   male     NaN     ru  Singleword Benchmark  "
            ],
            "text/html": [
              "\n",
              "  <div id=\"df-da3cad24-cb31-4915-8567-c65950d15a37\">\n",
              "    <div class=\"colab-df-container\">\n",
              "      <div>\n",
              "<style scoped>\n",
              "    .dataframe tbody tr th:only-of-type {\n",
              "        vertical-align: middle;\n",
              "    }\n",
              "\n",
              "    .dataframe tbody tr th {\n",
              "        vertical-align: top;\n",
              "    }\n",
              "\n",
              "    .dataframe thead th {\n",
              "        text-align: right;\n",
              "    }\n",
              "</style>\n",
              "<table border=\"1\" class=\"dataframe\">\n",
              "  <thead>\n",
              "    <tr style=\"text-align: right;\">\n",
              "      <th></th>\n",
              "      <th>client_id</th>\n",
              "      <th>path</th>\n",
              "      <th>sentence</th>\n",
              "      <th>up_votes</th>\n",
              "      <th>down_votes</th>\n",
              "      <th>age</th>\n",
              "      <th>gender</th>\n",
              "      <th>accent</th>\n",
              "      <th>locale</th>\n",
              "      <th>segment</th>\n",
              "    </tr>\n",
              "  </thead>\n",
              "  <tbody>\n",
              "    <tr>\n",
              "      <th>0</th>\n",
              "      <td>673764e8892d6d0613f4950192a9920ea9844b59d59207...</td>\n",
              "      <td>common_voice_ru_22485647.mp3</td>\n",
              "      <td>ноль</td>\n",
              "      <td>2</td>\n",
              "      <td>0</td>\n",
              "      <td>NaN</td>\n",
              "      <td>NaN</td>\n",
              "      <td>NaN</td>\n",
              "      <td>ru</td>\n",
              "      <td>Singleword Benchmark</td>\n",
              "    </tr>\n",
              "    <tr>\n",
              "      <th>1</th>\n",
              "      <td>c32636735fe9b4305b7c2c1d42961c6ff9db893672886e...</td>\n",
              "      <td>common_voice_ru_22159794.mp3</td>\n",
              "      <td>Эй</td>\n",
              "      <td>2</td>\n",
              "      <td>0</td>\n",
              "      <td>teens</td>\n",
              "      <td>male</td>\n",
              "      <td>NaN</td>\n",
              "      <td>ru</td>\n",
              "      <td>Singleword Benchmark</td>\n",
              "    </tr>\n",
              "    <tr>\n",
              "      <th>2</th>\n",
              "      <td>d640393cf6111a6fdad53190da7961ccabf6fef99084dc...</td>\n",
              "      <td>common_voice_ru_21670602.mp3</td>\n",
              "      <td>да</td>\n",
              "      <td>2</td>\n",
              "      <td>0</td>\n",
              "      <td>thirties</td>\n",
              "      <td>male</td>\n",
              "      <td>NaN</td>\n",
              "      <td>ru</td>\n",
              "      <td>Singleword Benchmark</td>\n",
              "    </tr>\n",
              "    <tr>\n",
              "      <th>3</th>\n",
              "      <td>db602929cf83e32b3bb6d33ddf2fe517c09b7265de4d12...</td>\n",
              "      <td>common_voice_ru_21781606.mp3</td>\n",
              "      <td>два</td>\n",
              "      <td>2</td>\n",
              "      <td>0</td>\n",
              "      <td>twenties</td>\n",
              "      <td>male</td>\n",
              "      <td>NaN</td>\n",
              "      <td>ru</td>\n",
              "      <td>Singleword Benchmark</td>\n",
              "    </tr>\n",
              "  </tbody>\n",
              "</table>\n",
              "</div>\n",
              "      <button class=\"colab-df-convert\" onclick=\"convertToInteractive('df-da3cad24-cb31-4915-8567-c65950d15a37')\"\n",
              "              title=\"Convert this dataframe to an interactive table.\"\n",
              "              style=\"display:none;\">\n",
              "        \n",
              "  <svg xmlns=\"http://www.w3.org/2000/svg\" height=\"24px\"viewBox=\"0 0 24 24\"\n",
              "       width=\"24px\">\n",
              "    <path d=\"M0 0h24v24H0V0z\" fill=\"none\"/>\n",
              "    <path d=\"M18.56 5.44l.94 2.06.94-2.06 2.06-.94-2.06-.94-.94-2.06-.94 2.06-2.06.94zm-11 1L8.5 8.5l.94-2.06 2.06-.94-2.06-.94L8.5 2.5l-.94 2.06-2.06.94zm10 10l.94 2.06.94-2.06 2.06-.94-2.06-.94-.94-2.06-.94 2.06-2.06.94z\"/><path d=\"M17.41 7.96l-1.37-1.37c-.4-.4-.92-.59-1.43-.59-.52 0-1.04.2-1.43.59L10.3 9.45l-7.72 7.72c-.78.78-.78 2.05 0 2.83L4 21.41c.39.39.9.59 1.41.59.51 0 1.02-.2 1.41-.59l7.78-7.78 2.81-2.81c.8-.78.8-2.07 0-2.86zM5.41 20L4 18.59l7.72-7.72 1.47 1.35L5.41 20z\"/>\n",
              "  </svg>\n",
              "      </button>\n",
              "      \n",
              "  <style>\n",
              "    .colab-df-container {\n",
              "      display:flex;\n",
              "      flex-wrap:wrap;\n",
              "      gap: 12px;\n",
              "    }\n",
              "\n",
              "    .colab-df-convert {\n",
              "      background-color: #E8F0FE;\n",
              "      border: none;\n",
              "      border-radius: 50%;\n",
              "      cursor: pointer;\n",
              "      display: none;\n",
              "      fill: #1967D2;\n",
              "      height: 32px;\n",
              "      padding: 0 0 0 0;\n",
              "      width: 32px;\n",
              "    }\n",
              "\n",
              "    .colab-df-convert:hover {\n",
              "      background-color: #E2EBFA;\n",
              "      box-shadow: 0px 1px 2px rgba(60, 64, 67, 0.3), 0px 1px 3px 1px rgba(60, 64, 67, 0.15);\n",
              "      fill: #174EA6;\n",
              "    }\n",
              "\n",
              "    [theme=dark] .colab-df-convert {\n",
              "      background-color: #3B4455;\n",
              "      fill: #D2E3FC;\n",
              "    }\n",
              "\n",
              "    [theme=dark] .colab-df-convert:hover {\n",
              "      background-color: #434B5C;\n",
              "      box-shadow: 0px 1px 3px 1px rgba(0, 0, 0, 0.15);\n",
              "      filter: drop-shadow(0px 1px 2px rgba(0, 0, 0, 0.3));\n",
              "      fill: #FFFFFF;\n",
              "    }\n",
              "  </style>\n",
              "\n",
              "      <script>\n",
              "        const buttonEl =\n",
              "          document.querySelector('#df-da3cad24-cb31-4915-8567-c65950d15a37 button.colab-df-convert');\n",
              "        buttonEl.style.display =\n",
              "          google.colab.kernel.accessAllowed ? 'block' : 'none';\n",
              "\n",
              "        async function convertToInteractive(key) {\n",
              "          const element = document.querySelector('#df-da3cad24-cb31-4915-8567-c65950d15a37');\n",
              "          const dataTable =\n",
              "            await google.colab.kernel.invokeFunction('convertToInteractive',\n",
              "                                                     [key], {});\n",
              "          if (!dataTable) return;\n",
              "\n",
              "          const docLinkHtml = 'Like what you see? Visit the ' +\n",
              "            '<a target=\"_blank\" href=https://colab.research.google.com/notebooks/data_table.ipynb>data table notebook</a>'\n",
              "            + ' to learn more about interactive tables.';\n",
              "          element.innerHTML = '';\n",
              "          dataTable['output_type'] = 'display_data';\n",
              "          await google.colab.output.renderOutput(dataTable, element);\n",
              "          const docLink = document.createElement('div');\n",
              "          docLink.innerHTML = docLinkHtml;\n",
              "          element.appendChild(docLink);\n",
              "        }\n",
              "      </script>\n",
              "    </div>\n",
              "  </div>\n",
              "  "
            ]
          },
          "metadata": {},
          "execution_count": 17
        }
      ]
    },
    {
      "cell_type": "code",
      "metadata": {
        "colab": {
          "base_uri": "https://localhost:8080/"
        },
        "id": "6O7_q9Z9QGhE",
        "outputId": "9d06bc1d-3110-4d39-9f5e-0c131dbd4ccc"
      },
      "source": [
        "if ((batchsize > len(df_train.index)) or (batchsize > len (df_valid.index))):\n",
        "  raise ValueError(\"Batch size must not be greater than train and validation size\")()\n",
        "\n",
        "print(\"Creating data batch generators\")\n",
        "traindata = BatchGenerator(dataframe=df_train,\n",
        "                           batch_size=batchsize)\n",
        "\n",
        "validdata = BatchGenerator(dataframe=df_valid,\n",
        "                           batch_size=batchsize)\n",
        "\n",
        "\n",
        "#steps to read our data\n",
        "train_steps = len(df_train.index) // batchsize\n",
        "valid_steps = len(df_valid.index) #// batchsize)"
      ],
      "execution_count": null,
      "outputs": [
        {
          "output_type": "stream",
          "name": "stdout",
          "text": [
            "Creating data batch generators\n"
          ]
        }
      ]
    },
    {
      "cell_type": "code",
      "metadata": {
        "colab": {
          "base_uri": "https://localhost:8080/"
        },
        "id": "O7wqqzobwpLz",
        "outputId": "4fe17bec-612f-4c04-e2e6-bfc9bd572ff6"
      },
      "source": [
        "inputs, outputs = traindata.get_batch(2)"
      ],
      "execution_count": null,
      "outputs": [
        {
          "output_type": "stream",
          "name": "stderr",
          "text": [
            "/usr/local/lib/python3.8/dist-packages/librosa/core/audio.py:165: UserWarning: PySoundFile failed. Trying audioread instead.\n",
            "  warnings.warn(\"PySoundFile failed. Trying audioread instead.\")\n",
            "/usr/local/lib/python3.8/dist-packages/librosa/core/audio.py:165: UserWarning: PySoundFile failed. Trying audioread instead.\n",
            "  warnings.warn(\"PySoundFile failed. Trying audioread instead.\")\n",
            "/usr/local/lib/python3.8/dist-packages/librosa/core/audio.py:165: UserWarning: PySoundFile failed. Trying audioread instead.\n",
            "  warnings.warn(\"PySoundFile failed. Trying audioread instead.\")\n",
            "/usr/local/lib/python3.8/dist-packages/librosa/core/audio.py:165: UserWarning: PySoundFile failed. Trying audioread instead.\n",
            "  warnings.warn(\"PySoundFile failed. Trying audioread instead.\")\n"
          ]
        }
      ]
    },
    {
      "cell_type": "code",
      "metadata": {
        "colab": {
          "base_uri": "https://localhost:8080/"
        },
        "id": "VC5tn52_xdQz",
        "outputId": "d0eefaec-8a08-4d7c-9074-1eab858d270d"
      },
      "source": [
        "print(inputs['source_str'])\n",
        "print(inputs['label_length'])\n",
        "print(inputs['the_labels'])"
      ],
      "execution_count": null,
      "outputs": [
        {
          "output_type": "stream",
          "name": "stdout",
          "text": [
            "['Эй' 'семь' 'четыре' 'ноль']\n",
            "[2 4 6 4]\n",
            "[[31 11 34 34 34 34]\n",
            " [19  6 14 30 34 34]\n",
            " [25  6 20 29 18  6]\n",
            " [15 16 13 30 34 34]]\n"
          ]
        }
      ]
    },
    {
      "cell_type": "code",
      "metadata": {
        "colab": {
          "base_uri": "https://localhost:8080/"
        },
        "id": "FJZrXvdFz--C",
        "outputId": "ef0a47e7-fedb-435b-efb9-58a3ee65f84a"
      },
      "source": [
        "print(inputs['input_length'])"
      ],
      "execution_count": null,
      "outputs": [
        {
          "output_type": "stream",
          "name": "stdout",
          "text": [
            "[253 260 284 260]\n"
          ]
        }
      ]
    },
    {
      "cell_type": "code",
      "metadata": {
        "colab": {
          "base_uri": "https://localhost:8080/"
        },
        "id": "LzeLh_8u0WET",
        "outputId": "0180dbbe-4210-4413-bba0-257f845b3253"
      },
      "source": [
        "print(inputs['the_input'].shape) #batch x freq x time (time = 161)"
      ],
      "execution_count": null,
      "outputs": [
        {
          "output_type": "stream",
          "name": "stdout",
          "text": [
            "(4, 284, 161)\n"
          ]
        }
      ]
    },
    {
      "cell_type": "code",
      "metadata": {
        "id": "mChEarFVAE1x"
      },
      "source": [
        "import warnings\n",
        "warnings.filterwarnings('ignore')"
      ],
      "execution_count": null,
      "outputs": []
    },
    {
      "cell_type": "code",
      "source": [
        "#creating model\n",
        "model = ds2_gru_model(output_dim = get_number_of_char_classes())\n",
        "\n",
        "opt = Adam(lr=1e-4)\n",
        "model.compile(optimizer=opt, loss=ctc)\n",
        "\n",
        "#fitting model\n",
        "history = model.fit(traindata.next_batch(),\n",
        "                    epochs=epochs,\n",
        "                    steps_per_epoch=train_steps,\n",
        "                    validation_data=validdata.next_batch(),\n",
        "                    validation_steps=valid_steps,\n",
        "                    verbose=1)\n"
      ],
      "metadata": {
        "colab": {
          "base_uri": "https://localhost:8080/"
        },
        "id": "d-6OkojPRw-b",
        "outputId": "1ba3f6dc-b987-4c8e-e322-3465a563446a"
      },
      "execution_count": null,
      "outputs": [
        {
          "output_type": "stream",
          "name": "stdout",
          "text": [
            "Epoch 1/25\n",
            "340/340 [==============================] - 289s 839ms/step - loss: 44.5732 - val_loss: 9.3076\n",
            "Epoch 2/25\n",
            "340/340 [==============================] - 85s 250ms/step - loss: 11.2665 - val_loss: 8.2732\n",
            "Epoch 3/25\n",
            "340/340 [==============================] - 86s 252ms/step - loss: 10.7415 - val_loss: 7.8649\n",
            "Epoch 4/25\n",
            "340/340 [==============================] - 86s 252ms/step - loss: 10.0585 - val_loss: 7.6887\n",
            "Epoch 5/25\n",
            "340/340 [==============================] - 86s 252ms/step - loss: 9.1123 - val_loss: 8.2770\n",
            "Epoch 6/25\n",
            "340/340 [==============================] - 86s 252ms/step - loss: 7.8964 - val_loss: 7.8803\n",
            "Epoch 7/25\n",
            "340/340 [==============================] - 86s 252ms/step - loss: 6.5303 - val_loss: 6.6126\n",
            "Epoch 8/25\n",
            "340/340 [==============================] - 86s 253ms/step - loss: 5.4510 - val_loss: 6.1449\n",
            "Epoch 9/25\n",
            "340/340 [==============================] - 86s 252ms/step - loss: 4.3070 - val_loss: 5.8834\n",
            "Epoch 10/25\n",
            "340/340 [==============================] - 86s 252ms/step - loss: 3.5524 - val_loss: 5.7026\n",
            "Epoch 11/25\n",
            "340/340 [==============================] - 86s 252ms/step - loss: 3.3688 - val_loss: 5.6391\n",
            "Epoch 12/25\n",
            "340/340 [==============================] - 86s 252ms/step - loss: 2.5147 - val_loss: 4.9948\n",
            "Epoch 13/25\n",
            "340/340 [==============================] - 86s 252ms/step - loss: 2.2358 - val_loss: 6.5569\n",
            "Epoch 14/25\n",
            "340/340 [==============================] - 86s 252ms/step - loss: 2.1477 - val_loss: 5.4307\n",
            "Epoch 15/25\n",
            "340/340 [==============================] - 86s 252ms/step - loss: 1.8498 - val_loss: 8.4785\n",
            "Epoch 16/25\n",
            "340/340 [==============================] - 86s 252ms/step - loss: 1.7586 - val_loss: 6.6998\n",
            "Epoch 17/25\n",
            "340/340 [==============================] - 86s 252ms/step - loss: 1.4987 - val_loss: 5.1727\n",
            "Epoch 18/25\n",
            "340/340 [==============================] - 86s 252ms/step - loss: 1.4081 - val_loss: 1.2402\n",
            "Epoch 19/25\n",
            "340/340 [==============================] - 86s 252ms/step - loss: 1.1306 - val_loss: 3.6071\n",
            "Epoch 20/25\n",
            "340/340 [==============================] - 86s 252ms/step - loss: 1.2355 - val_loss: 5.7248\n",
            "Epoch 21/25\n",
            "340/340 [==============================] - 86s 252ms/step - loss: 0.7404 - val_loss: 4.5829\n",
            "Epoch 22/25\n",
            "340/340 [==============================] - 86s 252ms/step - loss: 1.0875 - val_loss: 10.7834\n",
            "Epoch 23/25\n",
            "340/340 [==============================] - 86s 252ms/step - loss: 1.0163 - val_loss: 4.3695\n",
            "Epoch 24/25\n",
            "340/340 [==============================] - 86s 252ms/step - loss: 1.0146 - val_loss: 7.7530\n",
            "Epoch 25/25\n",
            "340/340 [==============================] - 86s 252ms/step - loss: 1.0211 - val_loss: 10.3824\n"
          ]
        }
      ]
    },
    {
      "cell_type": "code",
      "source": [
        "opt = Adam(lr=1e-5)\n",
        "model.compile(optimizer=opt, loss=ctc)\n",
        "\n",
        "#fitting model\n",
        "history = model.fit(traindata.next_batch(),\n",
        "                    epochs=5,\n",
        "                    steps_per_epoch=train_steps,\n",
        "                    validation_data=validdata.next_batch(),\n",
        "                    validation_steps=valid_steps,\n",
        "                    verbose=1)"
      ],
      "metadata": {
        "colab": {
          "base_uri": "https://localhost:8080/"
        },
        "id": "9IG1odIBbsMp",
        "outputId": "7e31f8a3-7f8f-46ad-db2e-fe69c38ecaef"
      },
      "execution_count": null,
      "outputs": [
        {
          "output_type": "stream",
          "name": "stdout",
          "text": [
            "Epoch 1/5\n",
            "340/340 [==============================] - 90s 253ms/step - loss: 0.3510 - val_loss: 3.3821\n",
            "Epoch 2/5\n",
            "340/340 [==============================] - 85s 251ms/step - loss: 0.1979 - val_loss: 3.2726\n",
            "Epoch 3/5\n",
            "340/340 [==============================] - 86s 252ms/step - loss: 0.1525 - val_loss: 2.9435\n",
            "Epoch 4/5\n",
            "340/340 [==============================] - 86s 253ms/step - loss: 0.1197 - val_loss: 2.9047\n",
            "Epoch 5/5\n",
            "340/340 [==============================] - 86s 253ms/step - loss: 0.0943 - val_loss: 3.0489\n"
          ]
        }
      ]
    },
    {
      "cell_type": "code",
      "source": [
        "opt = Adam(lr=1e-6)\n",
        "model.compile(optimizer=opt, loss=ctc)\n",
        "\n",
        "#fitting model\n",
        "history = model.fit(traindata.next_batch(),\n",
        "                    epochs=1,\n",
        "                    steps_per_epoch=train_steps,\n",
        "                    validation_data=validdata.next_batch(),\n",
        "                    validation_steps=valid_steps,\n",
        "                    verbose=1)"
      ],
      "metadata": {
        "colab": {
          "base_uri": "https://localhost:8080/"
        },
        "id": "tLlgFkXscOFV",
        "outputId": "9beefd25-6a76-465d-c6e9-73aee5b624b7"
      },
      "execution_count": null,
      "outputs": [
        {
          "output_type": "stream",
          "name": "stdout",
          "text": [
            "340/340 [==============================] - 91s 255ms/step - loss: 0.0779 - val_loss: 2.5951\n"
          ]
        }
      ]
    },
    {
      "cell_type": "code",
      "source": [
        "model.save('/content/drive/MyDrive/DeepSpeech/deepspeechmodel-4gru1c_29ep.h5')"
      ],
      "metadata": {
        "id": "I8_xzOH8SjoF"
      },
      "execution_count": null,
      "outputs": []
    },
    {
      "cell_type": "markdown",
      "metadata": {
        "id": "Hjvp5Kb_zniD"
      },
      "source": [
        "#Save/Load Model"
      ]
    },
    {
      "cell_type": "code",
      "metadata": {
        "id": "8zA84I3Yzrqs"
      },
      "source": [
        "#model.save(\"/content/drive/My Drive/DeepSpeech/deepspeechmodel-4gru1c_39ep.h5\")"
      ],
      "execution_count": null,
      "outputs": []
    },
    {
      "cell_type": "code",
      "metadata": {
        "id": "MupVvRfHOUIc"
      },
      "source": [
        "model = load_model('/content/drive/MyDrive/DeepSpeech/deepspeechmodel-4gru1c_29ep.h5', custom_objects = {'clipped_relu': clipped_relu}, compile=False)"
      ],
      "execution_count": null,
      "outputs": []
    },
    {
      "cell_type": "code",
      "metadata": {
        "colab": {
          "base_uri": "https://localhost:8080/",
          "height": 1000
        },
        "id": "e2xsKqtjSksT",
        "outputId": "2886ac7e-d9b7-41af-c5a6-da3919f2ccad"
      },
      "source": [
        "plot_model(model, to_file='deepspeech_model.png', expand_nested=True)"
      ],
      "execution_count": null,
      "outputs": [
        {
          "output_type": "execute_result",
          "data": {
            "image/png": "[encoded data removed]",
            "text/plain": [
              "<IPython.core.display.Image object>"
            ]
          },
          "metadata": {
            "tags": []
          },
          "execution_count": 28
        }
      ]
    },
    {
      "cell_type": "code",
      "metadata": {
        "colab": {
          "base_uri": "https://localhost:8080/"
        },
        "id": "6hHRvWJCTHcD",
        "outputId": "1ce9198c-8a15-4f10-dcb7-b6409dce3456"
      },
      "source": [
        "model.summary()"
      ],
      "execution_count": null,
      "outputs": [
        {
          "output_type": "stream",
          "text": [
            "Model: \"model_1\"\n",
            "__________________________________________________________________________________________________\n",
            "Layer (type)                    Output Shape         Param #     Connected to                     \n",
            "==================================================================================================\n",
            "the_input (InputLayer)          (None, None, 161)    0                                            \n",
            "__________________________________________________________________________________________________\n",
            "batch_normalization_1 (BatchNor (None, None, 161)    644         the_input[0][0]                  \n",
            "__________________________________________________________________________________________________\n",
            "zero_padding1d_1 (ZeroPadding1D (None, None, 161)    0           batch_normalization_1[0][0]      \n",
            "__________________________________________________________________________________________________\n",
            "conv_1 (Conv1D)                 (None, None, 1024)   1814528     zero_padding1d_1[0][0]           \n",
            "__________________________________________________________________________________________________\n",
            "batch_normalization_2 (BatchNor (None, None, 1024)   4096        conv_1[0][0]                     \n",
            "__________________________________________________________________________________________________\n",
            "bidirectional_1 (Bidirectional) (None, None, 512)    4724736     batch_normalization_2[0][0]      \n",
            "__________________________________________________________________________________________________\n",
            "bidirectional_2 (Bidirectional) (None, None, 512)    3151872     bidirectional_1[0][0]            \n",
            "__________________________________________________________________________________________________\n",
            "bidirectional_3 (Bidirectional) (None, None, 512)    3151872     bidirectional_2[0][0]            \n",
            "__________________________________________________________________________________________________\n",
            "bidirectional_4 (Bidirectional) (None, None, 512)    3151872     bidirectional_3[0][0]            \n",
            "__________________________________________________________________________________________________\n",
            "batch_normalization_3 (BatchNor (None, None, 512)    2048        bidirectional_4[0][0]            \n",
            "__________________________________________________________________________________________________\n",
            "time_distributed_1 (TimeDistrib (None, None, 1024)   525312      batch_normalization_3[0][0]      \n",
            "__________________________________________________________________________________________________\n",
            "time_distributed_2 (TimeDistrib (None, None, 36)     36900       time_distributed_1[0][0]         \n",
            "__________________________________________________________________________________________________\n",
            "the_labels (InputLayer)         (None, None)         0                                            \n",
            "__________________________________________________________________________________________________\n",
            "input_length (InputLayer)       (None, 1)            0                                            \n",
            "__________________________________________________________________________________________________\n",
            "label_length (InputLayer)       (None, 1)            0                                            \n",
            "__________________________________________________________________________________________________\n",
            "ctc (Lambda)                    (None, 1)            0           time_distributed_2[0][0]         \n",
            "                                                                 the_labels[0][0]                 \n",
            "                                                                 input_length[0][0]               \n",
            "                                                                 label_length[0][0]               \n",
            "==================================================================================================\n",
            "Total params: 16,563,880\n",
            "Trainable params: 16,560,486\n",
            "Non-trainable params: 3,394\n",
            "__________________________________________________________________________________________________\n"
          ],
          "name": "stdout"
        }
      ]
    },
    {
      "cell_type": "markdown",
      "metadata": {
        "id": "lYl0mvpSqoes"
      },
      "source": [
        "#Prediction"
      ]
    },
    {
      "cell_type": "code",
      "metadata": {
        "id": "BnI6tpFpqOH1"
      },
      "source": [
        "#Just to show spectrogram\n",
        "import librosa.display\n",
        "import matplotlib.pyplot as plt\n",
        "\n",
        "def drawSpecrogram(X_data):\n",
        "  plt.figure(figsize=(45, 30))\n",
        "  plt.subplot(4, 4, 1)\n",
        "  #librosa.display.specshow(X_data[0].T, y_axis='log', x_axis='time')\n",
        "  librosa.display.specshow(X_data[0].T, y_axis='linear')\n",
        "  plt.title('Power spectrogram of original file')"
      ],
      "execution_count": null,
      "outputs": []
    },
    {
      "cell_type": "code",
      "metadata": {
        "colab": {
          "base_uri": "https://localhost:8080/",
          "height": 93
        },
        "id": "j4Js7qPVp_I7",
        "outputId": "39d58fdf-bb73-4fe9-e1f9-03d177a9cf76"
      },
      "source": [
        "vIndex = 1\n",
        "audio_file_name = soundfile_path + df_valid['path'][vIndex]\n",
        "print(audio_file_name)\n",
        "Audio(filename=audio_file_name)"
      ],
      "execution_count": null,
      "outputs": [
        {
          "output_type": "stream",
          "name": "stdout",
          "text": [
            "/content/DeepSpeech/cv-corpus-5-singleword/ru/clips/common_voice_ru_22159794.mp3\n"
          ]
        },
        {
          "output_type": "execute_result",
          "data": {
            "text/plain": [
              "<IPython.lib.display.Audio object>"
            ],
            "text/html": [
              "\n",
              "                <audio  controls=\"controls\" >\n",
              "                    <source src=\"data:audio/mpeg;base64,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\" type=\"audio/mpeg\" />\n",
              "                    Your browser does not support the audio element.\n",
              "                </audio>\n",
              "              "
            ]
          },
          "metadata": {},
          "execution_count": 41
        }
      ]
    },
    {
      "cell_type": "code",
      "metadata": {
        "id": "MjotXZEgBePL"
      },
      "source": [
        "#Iterating trough all validation set\n",
        "input_layer_name = 'the_input'\n",
        "pred_layer_name = 'time_distributed_4'\n",
        "work_model = Model(inputs=model.get_layer(input_layer_name).input,\n",
        "                                 outputs=model.get_layer(pred_layer_name).output)"
      ],
      "execution_count": null,
      "outputs": []
    },
    {
      "cell_type": "code",
      "metadata": {
        "colab": {
          "base_uri": "https://localhost:8080/",
          "height": 476
        },
        "id": "xP1OplVXp1O1",
        "outputId": "b6bffb16-0ce3-422b-a60c-e68bcefc6c06"
      },
      "source": [
        "\n",
        "result, XData, Prediction = predict(audio_file_name, work_model)\n",
        "drawSpecrogram(XData)\n",
        "print(\"Prediction shape: {0}\".format(Prediction.shape))\n",
        "print(\"Predicted text: \", result)\n",
        "print(df_valid['sentence'][vIndex])"
      ],
      "execution_count": null,
      "outputs": [
        {
          "output_type": "stream",
          "name": "stdout",
          "text": [
            "1/1 [==============================] - 1s 662ms/step\n",
            "Prediction shape: (1, 1099, 1024)\n",
            "Predicted text:  \n",
            "Эй\n"
          ]
        },
        {
          "output_type": "display_data",
          "data": {
            "text/plain": [
              "<Figure size 3240x2160 with 1 Axes>"
            ],
            "image/png": "[encoded data removed]"
          },
          "metadata": {
            "needs_background": "light"
          }
        }
      ]
    },
    {
      "cell_type": "code",
      "metadata": {
        "colab": {
          "base_uri": "https://localhost:8080/"
        },
        "id": "9S07SabAsZYc",
        "outputId": "0a56fd95-a3a7-46c1-aa1e-b8911265d677"
      },
      "source": [
        "#Iterating trough all validation set\n",
        "#input_layer_name = 'the_input'\n",
        "#pred_layer_name = 'time_distributed_2'\n",
        "\n",
        "#work_model = Model(inputs=model.get_layer(input_layer_name).input,\n",
        "#                                 outputs=model.get_layer(pred_layer_name).output)\n",
        "for ind in df_valid.index:\n",
        "  audio_file_name = soundfile_path + df_valid['path'][ind]\n",
        "  result, _, _ = predict(audio_file_name, work_model)\n",
        "  print(\"Predicted text: \", result)\n",
        "  print(\"Valid text: \", df_valid['sentence'][ind])\n",
        "  print(\"____________________________________\")\n"
      ],
      "execution_count": null,
      "outputs": [
        {
          "output_type": "stream",
          "name": "stdout",
          "text": [
            "1/1 [==============================] - 0s 17ms/step\n",
            "Predicted text:  б\n",
            "Valid text:  ноль\n",
            "____________________________________\n",
            "1/1 [==============================] - 0s 15ms/step\n",
            "Predicted text:  \n",
            "Valid text:  Эй\n",
            "____________________________________\n",
            "1/1 [==============================] - 0s 17ms/step\n",
            "Predicted text:  \n",
            "Valid text:  да\n",
            "____________________________________\n",
            "1/1 [==============================] - 0s 19ms/step\n",
            "Predicted text:  \n",
            "Valid text:  два\n",
            "____________________________________\n"
          ]
        }
      ]
    },
    {
      "cell_type": "markdown",
      "metadata": {
        "id": "6FIMi97XCwnL"
      },
      "source": [
        "Домашнее задание\n",
        "\n",
        "**Light:** Выкинуть из CommonVoice лажу типа шесть - шесть. Обучить сеть. Испытать другие параметры в функции ds2_gru_model\n",
        "\n",
        "**Pro:**\n",
        "1. Прочесть статью Alex Graves про CTC Loss.\n",
        "2. Разобраться с кодом ноутбука.\n",
        "3. Обучить на свежем CommonVoice\n",
        "4. Оптимизировать функцию predict"
      ]
    }
  ]
}